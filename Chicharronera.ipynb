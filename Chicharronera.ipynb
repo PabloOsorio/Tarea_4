{
  "nbformat": 4,
  "nbformat_minor": 0,
  "metadata": {
    "colab": {
      "name": "Chicharronera.ipynb",
      "provenance": [],
      "authorship_tag": "ABX9TyO1cOhdPXtX4BPaGuIcUVos",
      "include_colab_link": true
    },
    "kernelspec": {
      "name": "python3",
      "display_name": "Python 3"
    },
    "language_info": {
      "name": "python"
    }
  },
  "cells": [
    {
      "cell_type": "markdown",
      "metadata": {
        "id": "view-in-github",
        "colab_type": "text"
      },
      "source": [
        "<a href=\"https://colab.research.google.com/github/PabloOsorio/Tarea_4/blob/main/Chicharronera.ipynb\" target=\"_parent\"><img src=\"https://colab.research.google.com/assets/colab-badge.svg\" alt=\"Open In Colab\"/></a>"
      ]
    },
    {
      "cell_type": "code",
      "metadata": {
        "colab": {
          "base_uri": "https://localhost:8080/"
        },
        "id": "Z2pL4yd-mrlz",
        "outputId": "0af8c568-ddb4-4417-87e6-4d821dea9280"
      },
      "source": [
        "x = float (input(\"Introduce el coeficiente cuadratico:  \"))\n",
        "y = float (input(\"Introduce el coeficiente lineal:  \"))\n",
        "z = float (input(\"Introduce el termino independiente:  \"))\n",
        "if x!=0: #Significa que deben ser distintos a 0 \"!=\"\n",
        "  Respuesta1=(-y+(((y**2)-(4*x*z))**.5))/(2*x)\n",
        "  Respuesta2=(-y-(((y**2)-(4*x*z))**.5))/(2*x)\n",
        "  print(\"El valor de x1 es \")\n",
        "  print(Respuesta1)\n",
        "  print(\"El valor de x2 es \")\n",
        "  print(Respuesta2)\n",
        "if x==0:\n",
        "  print(\"No puedo resolverlo ya que no tiene un elemento cuadratico\")\n",
        "\n"
      ],
      "execution_count": 7,
      "outputs": [
        {
          "output_type": "stream",
          "name": "stdout",
          "text": [
            "Introduce el coeficiente cuadratico:  4\n",
            "Introduce el coeficiente lineal:  25\n",
            "Introduce el termino independiente:  10\n",
            "El valor de x1 es \n",
            "-0.42951766839402206\n",
            "El valor de x2 es \n",
            "-5.820482331605978\n"
          ]
        }
      ]
    }
  ]
}